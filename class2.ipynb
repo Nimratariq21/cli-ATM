{
  "nbformat": 4,
  "nbformat_minor": 0,
  "metadata": {
    "colab": {
      "provenance": [],
      "include_colab_link": true
    },
    "kernelspec": {
      "name": "python3",
      "display_name": "Python 3"
    },
    "language_info": {
      "name": "python"
    }
  },
  "cells": [
    {
      "cell_type": "markdown",
      "metadata": {
        "id": "view-in-github",
        "colab_type": "text"
      },
      "source": [
        "<a href=\"https://colab.research.google.com/github/Nimratariq21/cli-ATM/blob/main/class2.ipynb\" target=\"_parent\"><img src=\"https://colab.research.google.com/assets/colab-badge.svg\" alt=\"Open In Colab\"/></a>"
      ]
    },
    {
      "cell_type": "code",
      "source": [
        "message1 = \"Hello\\tWorld\" # Hello   World\n",
        "message2 = \"Hello\\nWorld\" # Hello\n",
        "#                           World"
      ],
      "metadata": {
        "id": "OB7T_hXl3MDW"
      },
      "execution_count": null,
      "outputs": []
    },
    {
      "cell_type": "code",
      "execution_count": null,
      "metadata": {
        "colab": {
          "base_uri": "https://localhost:8080/"
        },
        "id": "2FgWHzPP187b",
        "outputId": "09102c77-c131-46f6-9ddf-d76fcd08bb2d"
      },
      "outputs": [
        {
          "output_type": "stream",
          "name": "stdout",
          "text": [
            "l\n"
          ]
        }
      ],
      "source": [
        "message = \"Hello World\"\n",
        "print( message[3] )"
      ]
    },
    {
      "cell_type": "code",
      "source": [
        "message = \"Hello World\"\n",
        "print( message[0:5] )"
      ],
      "metadata": {
        "colab": {
          "base_uri": "https://localhost:8080/"
        },
        "id": "VZ1iZotl3erH",
        "outputId": "5bf72899-a39b-40a0-bc93-18308fbc2f77"
      },
      "execution_count": null,
      "outputs": [
        {
          "output_type": "stream",
          "name": "stdout",
          "text": [
            "Hello\n"
          ]
        }
      ]
    },
    {
      "cell_type": "code",
      "source": [
        "byte_data: bytes = b\"Hello\"\n",
        "print(byte_data[1])\n"
      ],
      "metadata": {
        "colab": {
          "base_uri": "https://localhost:8080/"
        },
        "id": "qYZl4AeE4PHN",
        "outputId": "40396bc0-0643-47d7-ad06-baee15059bc4"
      },
      "execution_count": null,
      "outputs": [
        {
          "output_type": "stream",
          "name": "stdout",
          "text": [
            "101\n"
          ]
        }
      ]
    },
    {
      "cell_type": "code",
      "source": [
        "message2 = \"Hello, World\"\n",
        "print( message2.split(\"\\n\") )"
      ],
      "metadata": {
        "colab": {
          "base_uri": "https://localhost:8080/"
        },
        "id": "6Db6Ud63_2oZ",
        "outputId": "1148ef58-7699-41f8-cdc5-5314600f2acc"
      },
      "execution_count": null,
      "outputs": [
        {
          "output_type": "stream",
          "name": "stdout",
          "text": [
            "['Hello', ' World']\n"
          ]
        }
      ]
    },
    {
      "cell_type": "code",
      "source": [
        "pak_team = [\"Fakhar Zaman\", \"Saim Ayub\", \"Sarfraz\"]\n",
        "\n",
        "print( \", \".join(pak_team) )"
      ],
      "metadata": {
        "colab": {
          "base_uri": "https://localhost:8080/"
        },
        "id": "0EiFJZroBLGs",
        "outputId": "cef5ce58-cab6-4d9e-9d48-691e212283f3"
      },
      "execution_count": null,
      "outputs": [
        {
          "output_type": "stream",
          "name": "stdout",
          "text": [
            "Fakhar Zaman, Saim Ayub, Sarfraz\n"
          ]
        }
      ]
    },
    {
      "cell_type": "code",
      "source": [
        "message4 = \"Hello World\"\n",
        "\n",
        "\n",
        "print( message4.replace(\"World\", \"Class\") )"
      ],
      "metadata": {
        "colab": {
          "base_uri": "https://localhost:8080/"
        },
        "id": "hIDPgyWLDWpv",
        "outputId": "5e39559f-7a04-4f62-e7d8-cff339ed58db"
      },
      "execution_count": null,
      "outputs": [
        {
          "output_type": "stream",
          "name": "stdout",
          "text": [
            "Hello Class\n"
          ]
        }
      ]
    },
    {
      "cell_type": "code",
      "source": [
        "import random\n",
        "\n",
        "bobzi_runs = random.randint(0, 150)\n",
        "balls_faced = 80\n",
        "\n",
        "                     #      80        <    100 = True\n",
        "if ( bobzi_runs >= 100 and balls_faced < bobzi_runs ):\n",
        "  print( \"👑 King\" )\n",
        "\n",
        "else:\n",
        "  print(\"🔔 King\")"
      ],
      "metadata": {
        "colab": {
          "base_uri": "https://localhost:8080/"
        },
        "id": "UNMLOmjDE-PF",
        "outputId": "4edd7e70-4dc3-4a74-c590-45ab36edc17a"
      },
      "execution_count": null,
      "outputs": [
        {
          "output_type": "stream",
          "name": "stdout",
          "text": [
            "🔔 King\n"
          ]
        }
      ]
    },
    {
      "cell_type": "code",
      "source": [
        "user1 = {\n",
        "    \"name\" : \"Muzaffar\",\n",
        "    \"age\": 18,\n",
        "    \"is_married\": False\n",
        "}\n",
        "\n",
        "print( user1[\"name\"] )"
      ],
      "metadata": {
        "colab": {
          "base_uri": "https://localhost:8080/"
        },
        "id": "tgBEVtkwO-MF",
        "outputId": "f1bd5a0d-8c54-4ff6-8d0a-f68d1fac5e6a"
      },
      "execution_count": null,
      "outputs": [
        {
          "output_type": "stream",
          "name": "stdout",
          "text": [
            "Muzaffar\n"
          ]
        }
      ]
    },
    {
      "cell_type": "code",
      "source": [
        "pak_team = [\"Sarfaraz\", \"Naseem Shah\", \"Afridi\"]\n",
        "pak_team.pop()\n",
        "pak_team.append(\"Saim Ayub\")\n",
        "pak_team.append(\"Fakhar Zaman\")\n",
        "\n",
        "print(pak_team)"
      ],
      "metadata": {
        "colab": {
          "base_uri": "https://localhost:8080/"
        },
        "id": "sqSEtWSPQIEu",
        "outputId": "5f2613cf-0778-4db1-b1c3-6f3c0bd53f17"
      },
      "execution_count": null,
      "outputs": [
        {
          "output_type": "stream",
          "name": "stdout",
          "text": [
            "['Sarfaraz', 'Naseem Shah']\n"
          ]
        }
      ]
    },
    {
      "cell_type": "code",
      "source": [
        "pak_team: tuple = ( \"Baber Azam\", \"Shaheen\", \"Rizwan\"  )\n",
        "print(pak_team[1])"
      ],
      "metadata": {
        "colab": {
          "base_uri": "https://localhost:8080/"
        },
        "id": "ByEaMUQXQtNz",
        "outputId": "17038643-9fc5-427d-c7c7-71a7be50117a"
      },
      "execution_count": null,
      "outputs": [
        {
          "output_type": "stream",
          "name": "stdout",
          "text": [
            "Shaheen\n"
          ]
        }
      ]
    },
    {
      "cell_type": "code",
      "source": [
        "roles = { \"Students\", \"Kaptan\", \"Kaptan\" }\n",
        "print(roles)"
      ],
      "metadata": {
        "colab": {
          "base_uri": "https://localhost:8080/"
        },
        "id": "7S_EXNWuR8UG",
        "outputId": "c272995a-76ba-4c8c-a301-50a07fd0b8f7"
      },
      "execution_count": null,
      "outputs": [
        {
          "output_type": "stream",
          "name": "stdout",
          "text": [
            "{'Students', 'Kaptan'}\n"
          ]
        }
      ]
    }
  ]
}